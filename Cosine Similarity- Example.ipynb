{
 "cells": [
  {
   "cell_type": "markdown",
   "metadata": {},
   "source": [
    "### Taking Amazon reviews dataset. The reviews are for phone Lenovo K8\n",
    "### Here are few examples in which we will be applying cosine similarity to get the solution "
   ]
  },
  {
   "cell_type": "code",
   "execution_count": 1,
   "metadata": {},
   "outputs": [],
   "source": [
    "import pandas as pd\n",
    "import numpy as np\n",
    "import re\n",
    "%matplotlib inline\n",
    "from matplotlib import pyplot as plt"
   ]
  },
  {
   "cell_type": "code",
   "execution_count": 2,
   "metadata": {},
   "outputs": [
    {
     "data": {
      "text/html": [
       "<div>\n",
       "<style scoped>\n",
       "    .dataframe tbody tr th:only-of-type {\n",
       "        vertical-align: middle;\n",
       "    }\n",
       "\n",
       "    .dataframe tbody tr th {\n",
       "        vertical-align: top;\n",
       "    }\n",
       "\n",
       "    .dataframe thead th {\n",
       "        text-align: right;\n",
       "    }\n",
       "</style>\n",
       "<table border=\"1\" class=\"dataframe\">\n",
       "  <thead>\n",
       "    <tr style=\"text-align: right;\">\n",
       "      <th></th>\n",
       "      <th>sentiment</th>\n",
       "      <th>review</th>\n",
       "    </tr>\n",
       "  </thead>\n",
       "  <tbody>\n",
       "    <tr>\n",
       "      <th>0</th>\n",
       "      <td>1</td>\n",
       "      <td>Good but need updates and improvements</td>\n",
       "    </tr>\n",
       "    <tr>\n",
       "      <th>1</th>\n",
       "      <td>0</td>\n",
       "      <td>Worst mobile i have bought ever, Battery is draining like hell, backup is only 6 to 7 hours with internet uses, even if I put mobile idle its getting discharged.This is biggest lie from Amazon &amp; Lenove which is not at all expected, they are making full by saying that battery is 4000MAH &amp; booster charger is fake, it takes at least 4 to 5 hours to be fully charged.Don't know how Lenovo will survive by making full of us.Please don;t go for this else you will regret like me.</td>\n",
       "    </tr>\n",
       "    <tr>\n",
       "      <th>2</th>\n",
       "      <td>1</td>\n",
       "      <td>when I will get my 10% cash back.... its already 15 January..</td>\n",
       "    </tr>\n",
       "    <tr>\n",
       "      <th>3</th>\n",
       "      <td>1</td>\n",
       "      <td>Good</td>\n",
       "    </tr>\n",
       "    <tr>\n",
       "      <th>4</th>\n",
       "      <td>0</td>\n",
       "      <td>The worst phone everThey have changed the last phone but the problem is still same and the amazon is not returning the phone .Highly disappointing of amazon</td>\n",
       "    </tr>\n",
       "  </tbody>\n",
       "</table>\n",
       "</div>"
      ],
      "text/plain": [
       "   sentiment  \\\n",
       "0          1   \n",
       "1          0   \n",
       "2          1   \n",
       "3          1   \n",
       "4          0   \n",
       "\n",
       "                                                                                                                                                                                                                                                                                                                                                                                                                                                                                        review  \n",
       "0                                                                                                                                                                                                                                                                                                                                                                                                                                                       Good but need updates and improvements  \n",
       "1  Worst mobile i have bought ever, Battery is draining like hell, backup is only 6 to 7 hours with internet uses, even if I put mobile idle its getting discharged.This is biggest lie from Amazon & Lenove which is not at all expected, they are making full by saying that battery is 4000MAH & booster charger is fake, it takes at least 4 to 5 hours to be fully charged.Don't know how Lenovo will survive by making full of us.Please don;t go for this else you will regret like me.  \n",
       "2                                                                                                                                                                                                                                                                                                                                                                                                                                when I will get my 10% cash back.... its already 15 January..  \n",
       "3                                                                                                                                                                                                                                                                                                                                                                                                                                                                                         Good  \n",
       "4                                                                                                                                                                                                                                                                                                                                 The worst phone everThey have changed the last phone but the problem is still same and the amazon is not returning the phone .Highly disappointing of amazon  "
      ]
     },
     "execution_count": 2,
     "metadata": {},
     "output_type": "execute_result"
    }
   ],
   "source": [
    "reviews = pd.read_csv(r\"C:\\Users\\S.Joshi\\Desktop\\Data Science\\NLP\\Amazon Reviews.csv\")\n",
    "pd.set_option('display.max_colwidth', 1000)\n",
    "reviews.head()"
   ]
  },
  {
   "cell_type": "code",
   "execution_count": 18,
   "metadata": {},
   "outputs": [],
   "source": [
    "import nltk\n",
    "import string\n",
    "stop_words = nltk.corpus.stopwords.words(\"english\")"
   ]
  },
  {
   "cell_type": "code",
   "execution_count": 23,
   "metadata": {},
   "outputs": [],
   "source": [
    "# Creating a user defined function\n",
    "def clean_text(text):\n",
    "    # Stripping white spaces before and after the text\n",
    "    text = text.strip(\" \")\n",
    "    # Replacing multiple spaces with a single space\n",
    "    text = re.sub(\"\\s+\",\" \", text)\n",
    "    # Replacing punctuations\n",
    "    text = \"\".join([word.lower() for word in text if word not in string.punctuation])\n",
    "    # Creating tokens\n",
    "    tokens = re.split('\\W+', text)\n",
    "    return tokens"
   ]
  },
  {
   "cell_type": "code",
   "execution_count": 24,
   "metadata": {},
   "outputs": [],
   "source": [
    "reviews['reviews1'] = reviews['review'].apply(lambda x: clean_text(x))"
   ]
  },
  {
   "cell_type": "code",
   "execution_count": 25,
   "metadata": {},
   "outputs": [],
   "source": [
    "reviews.drop('cleaned_reviews', axis=1, inplace = True)"
   ]
  },
  {
   "cell_type": "code",
   "execution_count": 29,
   "metadata": {},
   "outputs": [
    {
     "data": {
      "text/html": [
       "<div>\n",
       "<style scoped>\n",
       "    .dataframe tbody tr th:only-of-type {\n",
       "        vertical-align: middle;\n",
       "    }\n",
       "\n",
       "    .dataframe tbody tr th {\n",
       "        vertical-align: top;\n",
       "    }\n",
       "\n",
       "    .dataframe thead th {\n",
       "        text-align: right;\n",
       "    }\n",
       "</style>\n",
       "<table border=\"1\" class=\"dataframe\">\n",
       "  <thead>\n",
       "    <tr style=\"text-align: right;\">\n",
       "      <th></th>\n",
       "      <th>sentiment</th>\n",
       "      <th>review</th>\n",
       "      <th>reviews1</th>\n",
       "      <th>cleaned_reviews</th>\n",
       "    </tr>\n",
       "  </thead>\n",
       "  <tbody>\n",
       "    <tr>\n",
       "      <th>0</th>\n",
       "      <td>1</td>\n",
       "      <td>Good but need updates and improvements</td>\n",
       "      <td>[good, but, need, updates, and, improvements]</td>\n",
       "      <td>good need updates improvements</td>\n",
       "    </tr>\n",
       "    <tr>\n",
       "      <th>1</th>\n",
       "      <td>0</td>\n",
       "      <td>Worst mobile i have bought ever, Battery is draining like hell, backup is only 6 to 7 hours with internet uses, even if I put mobile idle its getting discharged.This is biggest lie from Amazon &amp; Lenove which is not at all expected, they are making full by saying that battery is 4000MAH &amp; booster charger is fake, it takes at least 4 to 5 hours to be fully charged.Don't know how Lenovo will survive by making full of us.Please don;t go for this else you will regret like me.</td>\n",
       "      <td>[worst, mobile, i, have, bought, ever, battery, is, draining, like, hell, backup, is, only, 6, to, 7, hours, with, internet, uses, even, if, i, put, mobile, idle, its, getting, dischargedthis, is, biggest, lie, from, amazon, lenove, which, is, not, at, all, expected, they, are, making, full, by, saying, that, battery, is, 4000mah, booster, charger, is, fake, it, takes, at, least, 4, to, 5, hours, to, be, fully, chargeddont, know, how, lenovo, will, survive, by, making, full, of, usplease, dont, go, for, this, else, you, will, regret, like, me]</td>\n",
       "      <td>worst mobile bought ever battery draining like hell backup 6 7 hours internet uses even put mobile idle getting dischargedthis biggest lie amazon lenove expected making full saying battery 4000mah booster charger fake takes least 4 5 hours fully chargeddont know lenovo survive making full usplease dont go else regret like</td>\n",
       "    </tr>\n",
       "    <tr>\n",
       "      <th>2</th>\n",
       "      <td>1</td>\n",
       "      <td>when I will get my 10% cash back.... its already 15 January..</td>\n",
       "      <td>[when, i, will, get, my, 10, cash, back, its, already, 15, january]</td>\n",
       "      <td>get 10 cash back already 15 january</td>\n",
       "    </tr>\n",
       "    <tr>\n",
       "      <th>3</th>\n",
       "      <td>1</td>\n",
       "      <td>Good</td>\n",
       "      <td>[good]</td>\n",
       "      <td>good</td>\n",
       "    </tr>\n",
       "    <tr>\n",
       "      <th>4</th>\n",
       "      <td>0</td>\n",
       "      <td>The worst phone everThey have changed the last phone but the problem is still same and the amazon is not returning the phone .Highly disappointing of amazon</td>\n",
       "      <td>[the, worst, phone, everthey, have, changed, the, last, phone, but, the, problem, is, still, same, and, the, amazon, is, not, returning, the, phone, highly, disappointing, of, amazon]</td>\n",
       "      <td>worst phone everthey changed last phone problem still amazon returning phone highly disappointing amazon</td>\n",
       "    </tr>\n",
       "  </tbody>\n",
       "</table>\n",
       "</div>"
      ],
      "text/plain": [
       "   sentiment  \\\n",
       "0          1   \n",
       "1          0   \n",
       "2          1   \n",
       "3          1   \n",
       "4          0   \n",
       "\n",
       "                                                                                                                                                                                                                                                                                                                                                                                                                                                                                        review  \\\n",
       "0                                                                                                                                                                                                                                                                                                                                                                                                                                                       Good but need updates and improvements   \n",
       "1  Worst mobile i have bought ever, Battery is draining like hell, backup is only 6 to 7 hours with internet uses, even if I put mobile idle its getting discharged.This is biggest lie from Amazon & Lenove which is not at all expected, they are making full by saying that battery is 4000MAH & booster charger is fake, it takes at least 4 to 5 hours to be fully charged.Don't know how Lenovo will survive by making full of us.Please don;t go for this else you will regret like me.   \n",
       "2                                                                                                                                                                                                                                                                                                                                                                                                                                when I will get my 10% cash back.... its already 15 January..   \n",
       "3                                                                                                                                                                                                                                                                                                                                                                                                                                                                                         Good   \n",
       "4                                                                                                                                                                                                                                                                                                                                 The worst phone everThey have changed the last phone but the problem is still same and the amazon is not returning the phone .Highly disappointing of amazon   \n",
       "\n",
       "                                                                                                                                                                                                                                                                                                                                                                                                                                                                                                                                                                reviews1  \\\n",
       "0                                                                                                                                                                                                                                                                                                                                                                                                                                                                                                                          [good, but, need, updates, and, improvements]   \n",
       "1  [worst, mobile, i, have, bought, ever, battery, is, draining, like, hell, backup, is, only, 6, to, 7, hours, with, internet, uses, even, if, i, put, mobile, idle, its, getting, dischargedthis, is, biggest, lie, from, amazon, lenove, which, is, not, at, all, expected, they, are, making, full, by, saying, that, battery, is, 4000mah, booster, charger, is, fake, it, takes, at, least, 4, to, 5, hours, to, be, fully, chargeddont, know, how, lenovo, will, survive, by, making, full, of, usplease, dont, go, for, this, else, you, will, regret, like, me]   \n",
       "2                                                                                                                                                                                                                                                                                                                                                                                                                                                                                                    [when, i, will, get, my, 10, cash, back, its, already, 15, january]   \n",
       "3                                                                                                                                                                                                                                                                                                                                                                                                                                                                                                                                                                 [good]   \n",
       "4                                                                                                                                                                                                                                                                                                                                                                                [the, worst, phone, everthey, have, changed, the, last, phone, but, the, problem, is, still, same, and, the, amazon, is, not, returning, the, phone, highly, disappointing, of, amazon]   \n",
       "\n",
       "                                                                                                                                                                                                                                                                                                                       cleaned_reviews  \n",
       "0                                                                                                                                                                                                                                                                                                       good need updates improvements  \n",
       "1  worst mobile bought ever battery draining like hell backup 6 7 hours internet uses even put mobile idle getting dischargedthis biggest lie amazon lenove expected making full saying battery 4000mah booster charger fake takes least 4 5 hours fully chargeddont know lenovo survive making full usplease dont go else regret like  \n",
       "2                                                                                                                                                                                                                                                                                                  get 10 cash back already 15 january  \n",
       "3                                                                                                                                                                                                                                                                                                                                 good  \n",
       "4                                                                                                                                                                                                                             worst phone everthey changed last phone problem still amazon returning phone highly disappointing amazon  "
      ]
     },
     "execution_count": 29,
     "metadata": {},
     "output_type": "execute_result"
    }
   ],
   "source": [
    "def rem_stopwords(text):\n",
    "    rem_stp = [word for word in text if word not in stop_words]\n",
    "    final_text = \" \".join(rem_stp)\n",
    "    return(final_text)\n",
    "reviews['cleaned_reviews'] = reviews['reviews1'].apply(lambda x: rem_stopwords(x))\n",
    "reviews.head()"
   ]
  },
  {
   "cell_type": "markdown",
   "metadata": {},
   "source": [
    "# Creating a DTM"
   ]
  },
  {
   "cell_type": "code",
   "execution_count": 108,
   "metadata": {},
   "outputs": [
    {
     "data": {
      "text/html": [
       "<div>\n",
       "<style scoped>\n",
       "    .dataframe tbody tr th:only-of-type {\n",
       "        vertical-align: middle;\n",
       "    }\n",
       "\n",
       "    .dataframe tbody tr th {\n",
       "        vertical-align: top;\n",
       "    }\n",
       "\n",
       "    .dataframe thead th {\n",
       "        text-align: right;\n",
       "    }\n",
       "</style>\n",
       "<table border=\"1\" class=\"dataframe\">\n",
       "  <thead>\n",
       "    <tr style=\"text-align: right;\">\n",
       "      <th></th>\n",
       "      <th>10</th>\n",
       "      <th>100</th>\n",
       "      <th>1000</th>\n",
       "      <th>1012</th>\n",
       "      <th>1015</th>\n",
       "      <th>1080p</th>\n",
       "      <th>10999</th>\n",
       "      <th>10k</th>\n",
       "      <th>11</th>\n",
       "      <th>11999</th>\n",
       "      <th>...</th>\n",
       "      <th>yellow</th>\n",
       "      <th>yes</th>\n",
       "      <th>yesterday</th>\n",
       "      <th>yet</th>\n",
       "      <th>youll</th>\n",
       "      <th>youre</th>\n",
       "      <th>youtube</th>\n",
       "      <th>zero</th>\n",
       "      <th>zoom</th>\n",
       "      <th>zooming</th>\n",
       "    </tr>\n",
       "  </thead>\n",
       "  <tbody>\n",
       "    <tr>\n",
       "      <th>0</th>\n",
       "      <td>0</td>\n",
       "      <td>0</td>\n",
       "      <td>0</td>\n",
       "      <td>0</td>\n",
       "      <td>0</td>\n",
       "      <td>0</td>\n",
       "      <td>0</td>\n",
       "      <td>0</td>\n",
       "      <td>0</td>\n",
       "      <td>0</td>\n",
       "      <td>...</td>\n",
       "      <td>0</td>\n",
       "      <td>0</td>\n",
       "      <td>0</td>\n",
       "      <td>0</td>\n",
       "      <td>0</td>\n",
       "      <td>0</td>\n",
       "      <td>0</td>\n",
       "      <td>0</td>\n",
       "      <td>0</td>\n",
       "      <td>0</td>\n",
       "    </tr>\n",
       "    <tr>\n",
       "      <th>1</th>\n",
       "      <td>0</td>\n",
       "      <td>0</td>\n",
       "      <td>0</td>\n",
       "      <td>0</td>\n",
       "      <td>0</td>\n",
       "      <td>0</td>\n",
       "      <td>0</td>\n",
       "      <td>0</td>\n",
       "      <td>0</td>\n",
       "      <td>0</td>\n",
       "      <td>...</td>\n",
       "      <td>0</td>\n",
       "      <td>0</td>\n",
       "      <td>0</td>\n",
       "      <td>0</td>\n",
       "      <td>0</td>\n",
       "      <td>0</td>\n",
       "      <td>0</td>\n",
       "      <td>0</td>\n",
       "      <td>0</td>\n",
       "      <td>0</td>\n",
       "    </tr>\n",
       "    <tr>\n",
       "      <th>2</th>\n",
       "      <td>1</td>\n",
       "      <td>0</td>\n",
       "      <td>0</td>\n",
       "      <td>0</td>\n",
       "      <td>0</td>\n",
       "      <td>0</td>\n",
       "      <td>0</td>\n",
       "      <td>0</td>\n",
       "      <td>0</td>\n",
       "      <td>0</td>\n",
       "      <td>...</td>\n",
       "      <td>0</td>\n",
       "      <td>0</td>\n",
       "      <td>0</td>\n",
       "      <td>0</td>\n",
       "      <td>0</td>\n",
       "      <td>0</td>\n",
       "      <td>0</td>\n",
       "      <td>0</td>\n",
       "      <td>0</td>\n",
       "      <td>0</td>\n",
       "    </tr>\n",
       "    <tr>\n",
       "      <th>3</th>\n",
       "      <td>0</td>\n",
       "      <td>0</td>\n",
       "      <td>0</td>\n",
       "      <td>0</td>\n",
       "      <td>0</td>\n",
       "      <td>0</td>\n",
       "      <td>0</td>\n",
       "      <td>0</td>\n",
       "      <td>0</td>\n",
       "      <td>0</td>\n",
       "      <td>...</td>\n",
       "      <td>0</td>\n",
       "      <td>0</td>\n",
       "      <td>0</td>\n",
       "      <td>0</td>\n",
       "      <td>0</td>\n",
       "      <td>0</td>\n",
       "      <td>0</td>\n",
       "      <td>0</td>\n",
       "      <td>0</td>\n",
       "      <td>0</td>\n",
       "    </tr>\n",
       "    <tr>\n",
       "      <th>4</th>\n",
       "      <td>0</td>\n",
       "      <td>0</td>\n",
       "      <td>0</td>\n",
       "      <td>0</td>\n",
       "      <td>0</td>\n",
       "      <td>0</td>\n",
       "      <td>0</td>\n",
       "      <td>0</td>\n",
       "      <td>0</td>\n",
       "      <td>0</td>\n",
       "      <td>...</td>\n",
       "      <td>0</td>\n",
       "      <td>0</td>\n",
       "      <td>0</td>\n",
       "      <td>0</td>\n",
       "      <td>0</td>\n",
       "      <td>0</td>\n",
       "      <td>0</td>\n",
       "      <td>0</td>\n",
       "      <td>0</td>\n",
       "      <td>0</td>\n",
       "    </tr>\n",
       "    <tr>\n",
       "      <th>...</th>\n",
       "      <td>...</td>\n",
       "      <td>...</td>\n",
       "      <td>...</td>\n",
       "      <td>...</td>\n",
       "      <td>...</td>\n",
       "      <td>...</td>\n",
       "      <td>...</td>\n",
       "      <td>...</td>\n",
       "      <td>...</td>\n",
       "      <td>...</td>\n",
       "      <td>...</td>\n",
       "      <td>...</td>\n",
       "      <td>...</td>\n",
       "      <td>...</td>\n",
       "      <td>...</td>\n",
       "      <td>...</td>\n",
       "      <td>...</td>\n",
       "      <td>...</td>\n",
       "      <td>...</td>\n",
       "      <td>...</td>\n",
       "      <td>...</td>\n",
       "    </tr>\n",
       "    <tr>\n",
       "      <th>14670</th>\n",
       "      <td>0</td>\n",
       "      <td>0</td>\n",
       "      <td>0</td>\n",
       "      <td>0</td>\n",
       "      <td>0</td>\n",
       "      <td>0</td>\n",
       "      <td>0</td>\n",
       "      <td>0</td>\n",
       "      <td>0</td>\n",
       "      <td>0</td>\n",
       "      <td>...</td>\n",
       "      <td>0</td>\n",
       "      <td>0</td>\n",
       "      <td>0</td>\n",
       "      <td>0</td>\n",
       "      <td>0</td>\n",
       "      <td>0</td>\n",
       "      <td>0</td>\n",
       "      <td>0</td>\n",
       "      <td>0</td>\n",
       "      <td>0</td>\n",
       "    </tr>\n",
       "    <tr>\n",
       "      <th>14671</th>\n",
       "      <td>0</td>\n",
       "      <td>0</td>\n",
       "      <td>0</td>\n",
       "      <td>0</td>\n",
       "      <td>0</td>\n",
       "      <td>0</td>\n",
       "      <td>0</td>\n",
       "      <td>0</td>\n",
       "      <td>0</td>\n",
       "      <td>0</td>\n",
       "      <td>...</td>\n",
       "      <td>0</td>\n",
       "      <td>0</td>\n",
       "      <td>0</td>\n",
       "      <td>0</td>\n",
       "      <td>0</td>\n",
       "      <td>0</td>\n",
       "      <td>0</td>\n",
       "      <td>0</td>\n",
       "      <td>0</td>\n",
       "      <td>0</td>\n",
       "    </tr>\n",
       "    <tr>\n",
       "      <th>14672</th>\n",
       "      <td>0</td>\n",
       "      <td>0</td>\n",
       "      <td>0</td>\n",
       "      <td>0</td>\n",
       "      <td>0</td>\n",
       "      <td>0</td>\n",
       "      <td>0</td>\n",
       "      <td>0</td>\n",
       "      <td>0</td>\n",
       "      <td>0</td>\n",
       "      <td>...</td>\n",
       "      <td>0</td>\n",
       "      <td>0</td>\n",
       "      <td>0</td>\n",
       "      <td>0</td>\n",
       "      <td>0</td>\n",
       "      <td>0</td>\n",
       "      <td>0</td>\n",
       "      <td>0</td>\n",
       "      <td>0</td>\n",
       "      <td>0</td>\n",
       "    </tr>\n",
       "    <tr>\n",
       "      <th>14673</th>\n",
       "      <td>0</td>\n",
       "      <td>0</td>\n",
       "      <td>0</td>\n",
       "      <td>0</td>\n",
       "      <td>0</td>\n",
       "      <td>0</td>\n",
       "      <td>0</td>\n",
       "      <td>0</td>\n",
       "      <td>0</td>\n",
       "      <td>0</td>\n",
       "      <td>...</td>\n",
       "      <td>0</td>\n",
       "      <td>0</td>\n",
       "      <td>0</td>\n",
       "      <td>0</td>\n",
       "      <td>0</td>\n",
       "      <td>0</td>\n",
       "      <td>0</td>\n",
       "      <td>0</td>\n",
       "      <td>0</td>\n",
       "      <td>0</td>\n",
       "    </tr>\n",
       "    <tr>\n",
       "      <th>14674</th>\n",
       "      <td>0</td>\n",
       "      <td>0</td>\n",
       "      <td>0</td>\n",
       "      <td>0</td>\n",
       "      <td>0</td>\n",
       "      <td>0</td>\n",
       "      <td>0</td>\n",
       "      <td>0</td>\n",
       "      <td>0</td>\n",
       "      <td>0</td>\n",
       "      <td>...</td>\n",
       "      <td>0</td>\n",
       "      <td>0</td>\n",
       "      <td>0</td>\n",
       "      <td>0</td>\n",
       "      <td>0</td>\n",
       "      <td>0</td>\n",
       "      <td>0</td>\n",
       "      <td>0</td>\n",
       "      <td>0</td>\n",
       "      <td>0</td>\n",
       "    </tr>\n",
       "  </tbody>\n",
       "</table>\n",
       "<p>14675 rows × 2000 columns</p>\n",
       "</div>"
      ],
      "text/plain": [
       "       10  100  1000  1012  1015  1080p  10999  10k  11  11999  ...  yellow  \\\n",
       "0       0    0     0     0     0      0      0    0   0      0  ...       0   \n",
       "1       0    0     0     0     0      0      0    0   0      0  ...       0   \n",
       "2       1    0     0     0     0      0      0    0   0      0  ...       0   \n",
       "3       0    0     0     0     0      0      0    0   0      0  ...       0   \n",
       "4       0    0     0     0     0      0      0    0   0      0  ...       0   \n",
       "...    ..  ...   ...   ...   ...    ...    ...  ...  ..    ...  ...     ...   \n",
       "14670   0    0     0     0     0      0      0    0   0      0  ...       0   \n",
       "14671   0    0     0     0     0      0      0    0   0      0  ...       0   \n",
       "14672   0    0     0     0     0      0      0    0   0      0  ...       0   \n",
       "14673   0    0     0     0     0      0      0    0   0      0  ...       0   \n",
       "14674   0    0     0     0     0      0      0    0   0      0  ...       0   \n",
       "\n",
       "       yes  yesterday  yet  youll  youre  youtube  zero  zoom  zooming  \n",
       "0        0          0    0      0      0        0     0     0        0  \n",
       "1        0          0    0      0      0        0     0     0        0  \n",
       "2        0          0    0      0      0        0     0     0        0  \n",
       "3        0          0    0      0      0        0     0     0        0  \n",
       "4        0          0    0      0      0        0     0     0        0  \n",
       "...    ...        ...  ...    ...    ...      ...   ...   ...      ...  \n",
       "14670    0          0    0      0      0        0     0     0        0  \n",
       "14671    0          0    0      0      0        0     0     0        0  \n",
       "14672    0          0    0      0      0        0     0     0        0  \n",
       "14673    0          0    0      0      0        0     0     0        0  \n",
       "14674    0          0    0      0      0        0     0     0        0  \n",
       "\n",
       "[14675 rows x 2000 columns]"
      ]
     },
     "execution_count": 108,
     "metadata": {},
     "output_type": "execute_result"
    }
   ],
   "source": [
    "from sklearn.feature_extraction.text import CountVectorizer\n",
    "cv = CountVectorizer(max_features = 2000)\n",
    "x = cv.fit_transform(reviews['cleaned_reviews'])\n",
    "dtm = pd.DataFrame(x.toarray(), columns = cv.get_feature_names())\n",
    "dtm"
   ]
  },
  {
   "cell_type": "markdown",
   "metadata": {},
   "source": [
    "# Check the cosine similarity with the second and the third Amazon Review"
   ]
  },
  {
   "cell_type": "code",
   "execution_count": 31,
   "metadata": {},
   "outputs": [
    {
     "data": {
      "text/plain": [
       "array([[1.        , 0.        , 0.        , ..., 0.        , 0.        ,\n",
       "        0.33333333],\n",
       "       [0.        , 1.        , 0.        , ..., 0.        , 0.        ,\n",
       "        0.        ],\n",
       "       [0.        , 0.        , 1.        , ..., 0.        , 0.        ,\n",
       "        0.        ],\n",
       "       ...,\n",
       "       [0.        , 0.        , 0.        , ..., 1.        , 0.        ,\n",
       "        0.        ],\n",
       "       [0.        , 0.        , 0.        , ..., 0.        , 1.        ,\n",
       "        0.        ],\n",
       "       [0.33333333, 0.        , 0.        , ..., 0.        , 0.        ,\n",
       "        1.        ]])"
      ]
     },
     "execution_count": 31,
     "metadata": {},
     "output_type": "execute_result"
    }
   ],
   "source": [
    "from sklearn.metrics.pairwise import cosine_similarity\n",
    "# Finding the similarity between the documents\n",
    "cs = cosine_similarity(dtm)\n",
    "cs"
   ]
  },
  {
   "cell_type": "code",
   "execution_count": 32,
   "metadata": {},
   "outputs": [
    {
     "data": {
      "text/html": [
       "<div>\n",
       "<style scoped>\n",
       "    .dataframe tbody tr th:only-of-type {\n",
       "        vertical-align: middle;\n",
       "    }\n",
       "\n",
       "    .dataframe tbody tr th {\n",
       "        vertical-align: top;\n",
       "    }\n",
       "\n",
       "    .dataframe thead th {\n",
       "        text-align: right;\n",
       "    }\n",
       "</style>\n",
       "<table border=\"1\" class=\"dataframe\">\n",
       "  <thead>\n",
       "    <tr style=\"text-align: right;\">\n",
       "      <th></th>\n",
       "      <th>0</th>\n",
       "      <th>1</th>\n",
       "      <th>2</th>\n",
       "      <th>3</th>\n",
       "      <th>4</th>\n",
       "      <th>5</th>\n",
       "      <th>6</th>\n",
       "      <th>7</th>\n",
       "      <th>8</th>\n",
       "      <th>9</th>\n",
       "      <th>...</th>\n",
       "      <th>14665</th>\n",
       "      <th>14666</th>\n",
       "      <th>14667</th>\n",
       "      <th>14668</th>\n",
       "      <th>14669</th>\n",
       "      <th>14670</th>\n",
       "      <th>14671</th>\n",
       "      <th>14672</th>\n",
       "      <th>14673</th>\n",
       "      <th>14674</th>\n",
       "    </tr>\n",
       "  </thead>\n",
       "  <tbody>\n",
       "    <tr>\n",
       "      <th>0</th>\n",
       "      <td>1.00000</td>\n",
       "      <td>0.000000</td>\n",
       "      <td>0.0</td>\n",
       "      <td>0.57735</td>\n",
       "      <td>0.000000</td>\n",
       "      <td>0.00000</td>\n",
       "      <td>0.000000</td>\n",
       "      <td>0.000000</td>\n",
       "      <td>0.000000</td>\n",
       "      <td>0.000000</td>\n",
       "      <td>...</td>\n",
       "      <td>0.0</td>\n",
       "      <td>0.000000</td>\n",
       "      <td>0.00000</td>\n",
       "      <td>0.57735</td>\n",
       "      <td>0.000000</td>\n",
       "      <td>0.000000</td>\n",
       "      <td>0.000000</td>\n",
       "      <td>0.0</td>\n",
       "      <td>0.000000</td>\n",
       "      <td>0.333333</td>\n",
       "    </tr>\n",
       "    <tr>\n",
       "      <th>1</th>\n",
       "      <td>0.00000</td>\n",
       "      <td>1.000000</td>\n",
       "      <td>0.0</td>\n",
       "      <td>0.00000</td>\n",
       "      <td>0.089924</td>\n",
       "      <td>0.06143</td>\n",
       "      <td>0.043437</td>\n",
       "      <td>0.194257</td>\n",
       "      <td>0.066630</td>\n",
       "      <td>0.103835</td>\n",
       "      <td>...</td>\n",
       "      <td>0.0</td>\n",
       "      <td>0.043991</td>\n",
       "      <td>0.00000</td>\n",
       "      <td>0.00000</td>\n",
       "      <td>0.274721</td>\n",
       "      <td>0.086874</td>\n",
       "      <td>0.100314</td>\n",
       "      <td>0.0</td>\n",
       "      <td>0.000000</td>\n",
       "      <td>0.000000</td>\n",
       "    </tr>\n",
       "    <tr>\n",
       "      <th>2</th>\n",
       "      <td>0.00000</td>\n",
       "      <td>0.000000</td>\n",
       "      <td>1.0</td>\n",
       "      <td>0.00000</td>\n",
       "      <td>0.000000</td>\n",
       "      <td>0.00000</td>\n",
       "      <td>0.000000</td>\n",
       "      <td>0.000000</td>\n",
       "      <td>0.000000</td>\n",
       "      <td>0.000000</td>\n",
       "      <td>...</td>\n",
       "      <td>0.0</td>\n",
       "      <td>0.000000</td>\n",
       "      <td>0.00000</td>\n",
       "      <td>0.00000</td>\n",
       "      <td>0.000000</td>\n",
       "      <td>0.000000</td>\n",
       "      <td>0.069007</td>\n",
       "      <td>0.0</td>\n",
       "      <td>0.000000</td>\n",
       "      <td>0.000000</td>\n",
       "    </tr>\n",
       "    <tr>\n",
       "      <th>3</th>\n",
       "      <td>0.57735</td>\n",
       "      <td>0.000000</td>\n",
       "      <td>0.0</td>\n",
       "      <td>1.00000</td>\n",
       "      <td>0.000000</td>\n",
       "      <td>0.00000</td>\n",
       "      <td>0.000000</td>\n",
       "      <td>0.000000</td>\n",
       "      <td>0.000000</td>\n",
       "      <td>0.000000</td>\n",
       "      <td>...</td>\n",
       "      <td>0.0</td>\n",
       "      <td>0.000000</td>\n",
       "      <td>0.00000</td>\n",
       "      <td>1.00000</td>\n",
       "      <td>0.000000</td>\n",
       "      <td>0.000000</td>\n",
       "      <td>0.000000</td>\n",
       "      <td>0.0</td>\n",
       "      <td>0.000000</td>\n",
       "      <td>0.577350</td>\n",
       "    </tr>\n",
       "    <tr>\n",
       "      <th>4</th>\n",
       "      <td>0.00000</td>\n",
       "      <td>0.089924</td>\n",
       "      <td>0.0</td>\n",
       "      <td>0.00000</td>\n",
       "      <td>1.000000</td>\n",
       "      <td>0.00000</td>\n",
       "      <td>0.207020</td>\n",
       "      <td>0.000000</td>\n",
       "      <td>0.317554</td>\n",
       "      <td>0.000000</td>\n",
       "      <td>...</td>\n",
       "      <td>0.0</td>\n",
       "      <td>0.524142</td>\n",
       "      <td>0.46291</td>\n",
       "      <td>0.00000</td>\n",
       "      <td>0.000000</td>\n",
       "      <td>0.414039</td>\n",
       "      <td>0.000000</td>\n",
       "      <td>0.0</td>\n",
       "      <td>0.231455</td>\n",
       "      <td>0.000000</td>\n",
       "    </tr>\n",
       "  </tbody>\n",
       "</table>\n",
       "<p>5 rows × 14675 columns</p>\n",
       "</div>"
      ],
      "text/plain": [
       "     0         1      2        3         4        5         6         7      \\\n",
       "0  1.00000  0.000000    0.0  0.57735  0.000000  0.00000  0.000000  0.000000   \n",
       "1  0.00000  1.000000    0.0  0.00000  0.089924  0.06143  0.043437  0.194257   \n",
       "2  0.00000  0.000000    1.0  0.00000  0.000000  0.00000  0.000000  0.000000   \n",
       "3  0.57735  0.000000    0.0  1.00000  0.000000  0.00000  0.000000  0.000000   \n",
       "4  0.00000  0.089924    0.0  0.00000  1.000000  0.00000  0.207020  0.000000   \n",
       "\n",
       "      8         9      ...  14665     14666    14667    14668     14669  \\\n",
       "0  0.000000  0.000000  ...    0.0  0.000000  0.00000  0.57735  0.000000   \n",
       "1  0.066630  0.103835  ...    0.0  0.043991  0.00000  0.00000  0.274721   \n",
       "2  0.000000  0.000000  ...    0.0  0.000000  0.00000  0.00000  0.000000   \n",
       "3  0.000000  0.000000  ...    0.0  0.000000  0.00000  1.00000  0.000000   \n",
       "4  0.317554  0.000000  ...    0.0  0.524142  0.46291  0.00000  0.000000   \n",
       "\n",
       "      14670     14671  14672     14673     14674  \n",
       "0  0.000000  0.000000    0.0  0.000000  0.333333  \n",
       "1  0.086874  0.100314    0.0  0.000000  0.000000  \n",
       "2  0.000000  0.069007    0.0  0.000000  0.000000  \n",
       "3  0.000000  0.000000    0.0  0.000000  0.577350  \n",
       "4  0.414039  0.000000    0.0  0.231455  0.000000  \n",
       "\n",
       "[5 rows x 14675 columns]"
      ]
     },
     "execution_count": 32,
     "metadata": {},
     "output_type": "execute_result"
    }
   ],
   "source": [
    "df_cs = pd.DataFrame(cs)\n",
    "df_cs.head()"
   ]
  },
  {
   "cell_type": "code",
   "execution_count": 33,
   "metadata": {},
   "outputs": [
    {
     "data": {
      "text/plain": [
       "(14675, 14675)"
      ]
     },
     "execution_count": 33,
     "metadata": {},
     "output_type": "execute_result"
    }
   ],
   "source": [
    "df_cs.shape"
   ]
  },
  {
   "cell_type": "markdown",
   "metadata": {},
   "source": [
    "## So the similarity between the 2nd and the 3rd Amazon review is 0.\n",
    "- Let's see what is the 2nd and 3rd review is"
   ]
  },
  {
   "cell_type": "code",
   "execution_count": 34,
   "metadata": {},
   "outputs": [
    {
     "data": {
      "text/plain": [
       "\"Worst mobile i have bought ever, Battery is draining like hell, backup is only 6 to 7 hours with internet uses, even if I put mobile idle its getting discharged.This is biggest lie from Amazon & Lenove which is not at all expected, they are making full by saying that battery is 4000MAH & booster charger is fake, it takes at least 4 to 5 hours to be fully charged.Don't know how Lenovo will survive by making full of us.Please don;t go for this else you will regret like me.\""
      ]
     },
     "execution_count": 34,
     "metadata": {},
     "output_type": "execute_result"
    }
   ],
   "source": [
    "reviews['review'][1]\n",
    "# This is the 2nd review"
   ]
  },
  {
   "cell_type": "code",
   "execution_count": 35,
   "metadata": {},
   "outputs": [
    {
     "data": {
      "text/plain": [
       "'when I will get my 10% cash back.... its already 15 January..'"
      ]
     },
     "execution_count": 35,
     "metadata": {},
     "output_type": "execute_result"
    }
   ],
   "source": [
    "reviews['review'][2]\n",
    "# This is the 3rd review"
   ]
  },
  {
   "cell_type": "markdown",
   "metadata": {},
   "source": [
    "- It can be seen that 2nd review is negative and 3rd is related to cashback."
   ]
  },
  {
   "cell_type": "markdown",
   "metadata": {},
   "source": [
    "# For the 2nd review get the top 5 similar reviews"
   ]
  },
  {
   "cell_type": "code",
   "execution_count": 39,
   "metadata": {},
   "outputs": [
    {
     "data": {
      "text/plain": [
       "13988    0.430007\n",
       "8449     0.415164\n",
       "4030     0.414158\n",
       "4821     0.390130\n",
       "3330     0.388514\n",
       "Name: 1, dtype: float64"
      ]
     },
     "execution_count": 39,
     "metadata": {},
     "output_type": "execute_result"
    }
   ],
   "source": [
    "df_cs_top5 = df_cs[1].sort_values(ascending = False)[1:6]\n",
    "df_cs_top5\n",
    "# These the index values of the reviews that are most similar to the 2nd review"
   ]
  },
  {
   "cell_type": "code",
   "execution_count": 42,
   "metadata": {},
   "outputs": [
    {
     "data": {
      "text/plain": [
       "[13988, 8449, 4030, 4821, 3330]"
      ]
     },
     "execution_count": 42,
     "metadata": {},
     "output_type": "execute_result"
    }
   ],
   "source": [
    "# Finding the reviews at the above index positions\n",
    "ind = list(df_cs_top5.index.values)\n",
    "ind"
   ]
  },
  {
   "cell_type": "code",
   "execution_count": 43,
   "metadata": {},
   "outputs": [
    {
     "name": "stdout",
     "output_type": "stream",
     "text": [
      "Lenovo K8 note is the Worst mobile with worst 🔋 battery. The battery is getting drained in just 6 hours. And mobile has an heating issue in bonus.\n",
      "\n",
      "Worst Product from Lenovo till date. The hand set has issues from the date of purchase. Issues faced are as under and can be an eye opener for the prospective buyers:1. Hang-up during usage - very often you are left stranded in between apps as phone hangs-up in between usage like checking whatsapp, email of sms2. Heats up excessively - The claim of fast charging is false. it takes almost 5 hours for full charge. Heats up even while making calls and drains battery quite fast. The battery doesn't last even 5 hours post full charge3. Battery - The claim on turbo charge is false. There is no fast charging and it takes 5-6 hours for full charge. Heats up even while making calls and drains battery quite fast. The battery doesn't last even 5 hours post full charge4. Access to common functions - Doesn't even have access to common functions like providing SMS service centre number. Have recently taken the handset to a lenovo service centre, even they didn't know, how to put in the sms service centre number.5. Lenovo Forum - Unlike other leading or even lesser known brands, Lenovo executives don't respond to the queries/issues put up on the forum.Over all very bad product to choose. My issue how to dispose the same.regardsCertified buyer\n",
      "\n",
      "Just a average phone... Not like best...But battery backup is very poor.. I don't like this mobile\n",
      "\n",
      "the battery discharges very fast even in stand by mode and takes 5 hours for full charge. fully disappointed with battery.\n",
      "\n",
      "Its 1 of the worst phone ever from Lenovo, after oero update am getting battery backup around 3 hours ! yes 3 hours, camera is worst\n",
      "\n"
     ]
    }
   ],
   "source": [
    "for i in ind:\n",
    "    print(reviews['review'][i])\n",
    "    print()\n",
    "# These are the top 5 reviews that are similar to 2nd review"
   ]
  },
  {
   "cell_type": "markdown",
   "metadata": {},
   "source": [
    "# For the review with most number of words, find its similar reviews"
   ]
  },
  {
   "cell_type": "code",
   "execution_count": 45,
   "metadata": {},
   "outputs": [
    {
     "data": {
      "text/html": [
       "<div>\n",
       "<style scoped>\n",
       "    .dataframe tbody tr th:only-of-type {\n",
       "        vertical-align: middle;\n",
       "    }\n",
       "\n",
       "    .dataframe tbody tr th {\n",
       "        vertical-align: top;\n",
       "    }\n",
       "\n",
       "    .dataframe thead th {\n",
       "        text-align: right;\n",
       "    }\n",
       "</style>\n",
       "<table border=\"1\" class=\"dataframe\">\n",
       "  <thead>\n",
       "    <tr style=\"text-align: right;\">\n",
       "      <th></th>\n",
       "      <th>sentiment</th>\n",
       "      <th>review</th>\n",
       "      <th>reviews1</th>\n",
       "      <th>cleaned_reviews</th>\n",
       "      <th>no_of_words</th>\n",
       "    </tr>\n",
       "  </thead>\n",
       "  <tbody>\n",
       "    <tr>\n",
       "      <th>0</th>\n",
       "      <td>1</td>\n",
       "      <td>Good but need updates and improvements</td>\n",
       "      <td>[good, but, need, updates, and, improvements]</td>\n",
       "      <td>good need updates improvements</td>\n",
       "      <td>4</td>\n",
       "    </tr>\n",
       "    <tr>\n",
       "      <th>1</th>\n",
       "      <td>0</td>\n",
       "      <td>Worst mobile i have bought ever, Battery is draining like hell, backup is only 6 to 7 hours with internet uses, even if I put mobile idle its getting discharged.This is biggest lie from Amazon &amp; Lenove which is not at all expected, they are making full by saying that battery is 4000MAH &amp; booster charger is fake, it takes at least 4 to 5 hours to be fully charged.Don't know how Lenovo will survive by making full of us.Please don;t go for this else you will regret like me.</td>\n",
       "      <td>[worst, mobile, i, have, bought, ever, battery, is, draining, like, hell, backup, is, only, 6, to, 7, hours, with, internet, uses, even, if, i, put, mobile, idle, its, getting, dischargedthis, is, biggest, lie, from, amazon, lenove, which, is, not, at, all, expected, they, are, making, full, by, saying, that, battery, is, 4000mah, booster, charger, is, fake, it, takes, at, least, 4, to, 5, hours, to, be, fully, chargeddont, know, how, lenovo, will, survive, by, making, full, of, usplease, dont, go, for, this, else, you, will, regret, like, me]</td>\n",
       "      <td>worst mobile bought ever battery draining like hell backup 6 7 hours internet uses even put mobile idle getting dischargedthis biggest lie amazon lenove expected making full saying battery 4000mah booster charger fake takes least 4 5 hours fully chargeddont know lenovo survive making full usplease dont go else regret like</td>\n",
       "      <td>51</td>\n",
       "    </tr>\n",
       "    <tr>\n",
       "      <th>2</th>\n",
       "      <td>1</td>\n",
       "      <td>when I will get my 10% cash back.... its already 15 January..</td>\n",
       "      <td>[when, i, will, get, my, 10, cash, back, its, already, 15, january]</td>\n",
       "      <td>get 10 cash back already 15 january</td>\n",
       "      <td>7</td>\n",
       "    </tr>\n",
       "    <tr>\n",
       "      <th>3</th>\n",
       "      <td>1</td>\n",
       "      <td>Good</td>\n",
       "      <td>[good]</td>\n",
       "      <td>good</td>\n",
       "      <td>1</td>\n",
       "    </tr>\n",
       "    <tr>\n",
       "      <th>4</th>\n",
       "      <td>0</td>\n",
       "      <td>The worst phone everThey have changed the last phone but the problem is still same and the amazon is not returning the phone .Highly disappointing of amazon</td>\n",
       "      <td>[the, worst, phone, everthey, have, changed, the, last, phone, but, the, problem, is, still, same, and, the, amazon, is, not, returning, the, phone, highly, disappointing, of, amazon]</td>\n",
       "      <td>worst phone everthey changed last phone problem still amazon returning phone highly disappointing amazon</td>\n",
       "      <td>14</td>\n",
       "    </tr>\n",
       "  </tbody>\n",
       "</table>\n",
       "</div>"
      ],
      "text/plain": [
       "   sentiment  \\\n",
       "0          1   \n",
       "1          0   \n",
       "2          1   \n",
       "3          1   \n",
       "4          0   \n",
       "\n",
       "                                                                                                                                                                                                                                                                                                                                                                                                                                                                                        review  \\\n",
       "0                                                                                                                                                                                                                                                                                                                                                                                                                                                       Good but need updates and improvements   \n",
       "1  Worst mobile i have bought ever, Battery is draining like hell, backup is only 6 to 7 hours with internet uses, even if I put mobile idle its getting discharged.This is biggest lie from Amazon & Lenove which is not at all expected, they are making full by saying that battery is 4000MAH & booster charger is fake, it takes at least 4 to 5 hours to be fully charged.Don't know how Lenovo will survive by making full of us.Please don;t go for this else you will regret like me.   \n",
       "2                                                                                                                                                                                                                                                                                                                                                                                                                                when I will get my 10% cash back.... its already 15 January..   \n",
       "3                                                                                                                                                                                                                                                                                                                                                                                                                                                                                         Good   \n",
       "4                                                                                                                                                                                                                                                                                                                                 The worst phone everThey have changed the last phone but the problem is still same and the amazon is not returning the phone .Highly disappointing of amazon   \n",
       "\n",
       "                                                                                                                                                                                                                                                                                                                                                                                                                                                                                                                                                                reviews1  \\\n",
       "0                                                                                                                                                                                                                                                                                                                                                                                                                                                                                                                          [good, but, need, updates, and, improvements]   \n",
       "1  [worst, mobile, i, have, bought, ever, battery, is, draining, like, hell, backup, is, only, 6, to, 7, hours, with, internet, uses, even, if, i, put, mobile, idle, its, getting, dischargedthis, is, biggest, lie, from, amazon, lenove, which, is, not, at, all, expected, they, are, making, full, by, saying, that, battery, is, 4000mah, booster, charger, is, fake, it, takes, at, least, 4, to, 5, hours, to, be, fully, chargeddont, know, how, lenovo, will, survive, by, making, full, of, usplease, dont, go, for, this, else, you, will, regret, like, me]   \n",
       "2                                                                                                                                                                                                                                                                                                                                                                                                                                                                                                    [when, i, will, get, my, 10, cash, back, its, already, 15, january]   \n",
       "3                                                                                                                                                                                                                                                                                                                                                                                                                                                                                                                                                                 [good]   \n",
       "4                                                                                                                                                                                                                                                                                                                                                                                [the, worst, phone, everthey, have, changed, the, last, phone, but, the, problem, is, still, same, and, the, amazon, is, not, returning, the, phone, highly, disappointing, of, amazon]   \n",
       "\n",
       "                                                                                                                                                                                                                                                                                                                       cleaned_reviews  \\\n",
       "0                                                                                                                                                                                                                                                                                                       good need updates improvements   \n",
       "1  worst mobile bought ever battery draining like hell backup 6 7 hours internet uses even put mobile idle getting dischargedthis biggest lie amazon lenove expected making full saying battery 4000mah booster charger fake takes least 4 5 hours fully chargeddont know lenovo survive making full usplease dont go else regret like   \n",
       "2                                                                                                                                                                                                                                                                                                  get 10 cash back already 15 january   \n",
       "3                                                                                                                                                                                                                                                                                                                                 good   \n",
       "4                                                                                                                                                                                                                             worst phone everthey changed last phone problem still amazon returning phone highly disappointing amazon   \n",
       "\n",
       "   no_of_words  \n",
       "0            4  \n",
       "1           51  \n",
       "2            7  \n",
       "3            1  \n",
       "4           14  "
      ]
     },
     "execution_count": 45,
     "metadata": {},
     "output_type": "execute_result"
    }
   ],
   "source": [
    "def len_words_rev(text):\n",
    "    l = text.split()\n",
    "    return(len(l))\n",
    "\n",
    "reviews['no_of_words'] = reviews['cleaned_reviews'].apply(lambda x: len_words_rev(x))\n",
    "reviews.head()"
   ]
  },
  {
   "cell_type": "code",
   "execution_count": 46,
   "metadata": {},
   "outputs": [
    {
     "data": {
      "text/plain": [
       "390"
      ]
     },
     "execution_count": 46,
     "metadata": {},
     "output_type": "execute_result"
    }
   ],
   "source": [
    "# Finding the maximum number of words\n",
    "reviews['no_of_words'].max()"
   ]
  },
  {
   "cell_type": "code",
   "execution_count": 47,
   "metadata": {},
   "outputs": [
    {
     "data": {
      "text/html": [
       "<div>\n",
       "<style scoped>\n",
       "    .dataframe tbody tr th:only-of-type {\n",
       "        vertical-align: middle;\n",
       "    }\n",
       "\n",
       "    .dataframe tbody tr th {\n",
       "        vertical-align: top;\n",
       "    }\n",
       "\n",
       "    .dataframe thead th {\n",
       "        text-align: right;\n",
       "    }\n",
       "</style>\n",
       "<table border=\"1\" class=\"dataframe\">\n",
       "  <thead>\n",
       "    <tr style=\"text-align: right;\">\n",
       "      <th></th>\n",
       "      <th>sentiment</th>\n",
       "      <th>review</th>\n",
       "      <th>reviews1</th>\n",
       "      <th>cleaned_reviews</th>\n",
       "      <th>no_of_words</th>\n",
       "    </tr>\n",
       "  </thead>\n",
       "  <tbody>\n",
       "    <tr>\n",
       "      <th>8546</th>\n",
       "      <td>1</td>\n",
       "      <td>Good phone bad camera, great performanceI'm not one to write lengthy reviews of products, but here I felt the need to get a few points out there, because the Lenovo K8 Note isn't all that it promises to be, but it's definitely not an average product either.Point is, I bought this phone to replace my Redmi Note 3, 3GB and 32GB. I have an S7 Edge as my primary driver, I've always kept a second phone to game and watch videos. The other options I had considered were the Honor 6X and The Honor 8 Lite. The reason I went with Lenovo K8 note was for the dual camera setup and a good industry reviews on performance. It wouldn't hurt that my backup phone had a dual camera setup to play around with some bokeh fun. Here's my thoughts after using the phone as my primary phone for the past 3 days.Performance:This phone is everything that every review claims it to be. Yes it has a Mediatek processor but this deca-core setup with 4GB ram and 64Gb memory is phenomenal. In my experience, this phone h...</td>\n",
       "      <td>[good, phone, bad, camera, great, performanceim, not, one, to, write, lengthy, reviews, of, products, but, here, i, felt, the, need, to, get, a, few, points, out, there, because, the, lenovo, k8, note, isnt, all, that, it, promises, to, be, but, its, definitely, not, an, average, product, eitherpoint, is, i, bought, this, phone, to, replace, my, redmi, note, 3, 3gb, and, 32gb, i, have, an, s7, edge, as, my, primary, driver, ive, always, kept, a, second, phone, to, game, and, watch, videos, the, other, options, i, had, considered, were, the, honor, 6x, and, the, honor, 8, lite, the, reason, i, went, ...]</td>\n",
       "      <td>good phone bad camera great performanceim one write lengthy reviews products felt need get points lenovo k8 note isnt promises definitely average product eitherpoint bought phone replace redmi note 3 3gb 32gb s7 edge primary driver ive always kept second phone game watch videos options considered honor 6x honor 8 lite reason went lenovo k8 note dual camera setup good industry reviews performance wouldnt hurt backup phone dual camera setup play around bokeh fun heres thoughts using phone primary phone past 3 daysperformancethis phone everything every review claims yes mediatek processor decacore setup 4gb ram 64gb memory phenomenal experience phone handles multitasking good s7 edge playing guns boom wwe champions youtube video facebook time period 45 minutes phone switched apps without single glitch delay wwe champions open locked phone picked back afetr 20 odd minutes found screen exactly left loaded game without seconds delay want phone casual gaming media pleasure usecamerain fai...</td>\n",
       "      <td>390</td>\n",
       "    </tr>\n",
       "  </tbody>\n",
       "</table>\n",
       "</div>"
      ],
      "text/plain": [
       "      sentiment  \\\n",
       "8546          1   \n",
       "\n",
       "                                                                                                                                                                                                                                                                                                                                                                                                                                                                                                                                                                                                                                                                                                                                                                                                                                                                                                                                                                                                                                       review  \\\n",
       "8546  Good phone bad camera, great performanceI'm not one to write lengthy reviews of products, but here I felt the need to get a few points out there, because the Lenovo K8 Note isn't all that it promises to be, but it's definitely not an average product either.Point is, I bought this phone to replace my Redmi Note 3, 3GB and 32GB. I have an S7 Edge as my primary driver, I've always kept a second phone to game and watch videos. The other options I had considered were the Honor 6X and The Honor 8 Lite. The reason I went with Lenovo K8 note was for the dual camera setup and a good industry reviews on performance. It wouldn't hurt that my backup phone had a dual camera setup to play around with some bokeh fun. Here's my thoughts after using the phone as my primary phone for the past 3 days.Performance:This phone is everything that every review claims it to be. Yes it has a Mediatek processor but this deca-core setup with 4GB ram and 64Gb memory is phenomenal. In my experience, this phone h...   \n",
       "\n",
       "                                                                                                                                                                                                                                                                                                                                                                                                                                                                                                                                                                                                                                reviews1  \\\n",
       "8546  [good, phone, bad, camera, great, performanceim, not, one, to, write, lengthy, reviews, of, products, but, here, i, felt, the, need, to, get, a, few, points, out, there, because, the, lenovo, k8, note, isnt, all, that, it, promises, to, be, but, its, definitely, not, an, average, product, eitherpoint, is, i, bought, this, phone, to, replace, my, redmi, note, 3, 3gb, and, 32gb, i, have, an, s7, edge, as, my, primary, driver, ive, always, kept, a, second, phone, to, game, and, watch, videos, the, other, options, i, had, considered, were, the, honor, 6x, and, the, honor, 8, lite, the, reason, i, went, ...]   \n",
       "\n",
       "                                                                                                                                                                                                                                                                                                                                                                                                                                                                                                                                                                                                                                                                                                                                                                                                                                                                                                                                                                                                                              cleaned_reviews  \\\n",
       "8546  good phone bad camera great performanceim one write lengthy reviews products felt need get points lenovo k8 note isnt promises definitely average product eitherpoint bought phone replace redmi note 3 3gb 32gb s7 edge primary driver ive always kept second phone game watch videos options considered honor 6x honor 8 lite reason went lenovo k8 note dual camera setup good industry reviews performance wouldnt hurt backup phone dual camera setup play around bokeh fun heres thoughts using phone primary phone past 3 daysperformancethis phone everything every review claims yes mediatek processor decacore setup 4gb ram 64gb memory phenomenal experience phone handles multitasking good s7 edge playing guns boom wwe champions youtube video facebook time period 45 minutes phone switched apps without single glitch delay wwe champions open locked phone picked back afetr 20 odd minutes found screen exactly left loaded game without seconds delay want phone casual gaming media pleasure usecamerain fai...   \n",
       "\n",
       "      no_of_words  \n",
       "8546          390  "
      ]
     },
     "execution_count": 47,
     "metadata": {},
     "output_type": "execute_result"
    }
   ],
   "source": [
    "reviews[reviews['no_of_words']==390]\n",
    "# This review is at index 8546 so now finding similar documents to this index 8546 in our df_cs dataframe"
   ]
  },
  {
   "cell_type": "code",
   "execution_count": 49,
   "metadata": {},
   "outputs": [
    {
     "data": {
      "text/plain": [
       "3436     0.700140\n",
       "1542     0.634691\n",
       "8831     0.634691\n",
       "6088     0.626224\n",
       "11995    0.602376\n",
       "Name: 8546, dtype: float64"
      ]
     },
     "execution_count": 49,
     "metadata": {},
     "output_type": "execute_result"
    }
   ],
   "source": [
    "df_top5_maxwords = df_cs[8546].sort_values(ascending = False)[1:6]\n",
    "df_top5_maxwords"
   ]
  },
  {
   "cell_type": "code",
   "execution_count": 50,
   "metadata": {},
   "outputs": [
    {
     "data": {
      "text/plain": [
       "[3436, 1542, 8831, 6088, 11995]"
      ]
     },
     "execution_count": 50,
     "metadata": {},
     "output_type": "execute_result"
    }
   ],
   "source": [
    "# Finding the reviews at the above index positions\n",
    "ind = list(df_top5_maxwords.index.values)\n",
    "ind"
   ]
  },
  {
   "cell_type": "code",
   "execution_count": 53,
   "metadata": {},
   "outputs": [
    {
     "name": "stdout",
     "output_type": "stream",
     "text": [
      "Lenovo k8 note phone is very good phone.\n",
      "\n",
      "Lenovo k8 note is very good phone .\n",
      "\n",
      "Lenovo k8 note Good phone\n",
      "\n",
      "Good camera phone .highlights of this phone is dual camera\n",
      "\n",
      "Lenovo K8 Note is \"on paper\" the best phone in budget phone segment. It's a Killer phone only if you go by specifications otherwise it's a total wastage of your 13-14k.The build quality is ok. Nothing in this phone is above average. Either it is average or below average.Let me tell you why one should not buy it.1) I used Jio sim for my Lenovo K8 Note. The problem is when the phone remains idle for 10mins or something it goes in standby mode i.e. if someone calls me, the caller hears that the phone is switched off but in actual phone is not switched off. The moment I unlock the phone and someone calls me at that time it works fine.So it's the biggest disappointment. It feels I bought video game for 14k. And this is not happening random. It happens every time when phone remains idle for more than 10mins.2) Network connectivity: Network connectivity is very poor in this phone. I tried sim cards from same service provider at same location in two different handsets out of which one is Lenovo K8 Note, and my observation is the other handset gets full network signal but Lenovo K8 Note always shows one-two bar less and that affects the call quality.3) Even though it is having 4000mah battery, the battery performance is very poor. It drains very fast even in idle condition.4) If you are movie/tv series lover and spend most of your time watching videos on phone then this phone will irritate you. Things is when you watch videos on this phone, the screen gets flickering every now and then. It is the most irritating thing. Even after turning auto brightness mode off, the screen keeps flickering.5) Stock Android at it's worst in this phone.6) Dolby Atmos is not doing any magic. Normal music output.7) The hard keys (power, volume, music) are not firm. It is very loosely connect and having too much play. Even your older phone may not have that much play even after years of usage.8) Microphone output is very low so no good calling experience. It may be because of poor Network connectivity as I mentioned earlier.9) Dual camera feature has nothing special. Even third party apps can provide better results than this so called \"depth mode\" camera feature. Overall average camera output.10) No backlight for soft keys. You have to keep searching for soft keys in darkness.All above drawbacks are not specific to my phone only. As I faced these problems, I searched for solution online. Instead of finding solution, I found out many people are having similar issues with their Lenovo K8 note.Apart from phone, I give full marks to Amazon for the hassle free return of Lenovo K8 note.Amazon should refrain itself from selling this phone.Hope my review will help people who wants to buy this \"Killer Phone\".\n",
      "\n"
     ]
    }
   ],
   "source": [
    "for i in ind:\n",
    "    print(reviews['review'][i])\n",
    "    print()\n",
    "# These are the top 5 reviews that are similar to the review having maximum number of words"
   ]
  },
  {
   "cell_type": "markdown",
   "metadata": {},
   "source": [
    "# For the review with the least vader compound score get the top 5 similar reviews"
   ]
  },
  {
   "cell_type": "code",
   "execution_count": 54,
   "metadata": {},
   "outputs": [],
   "source": [
    "from nltk.sentiment.vader import SentimentIntensityAnalyzer\n",
    "analyzer = SentimentIntensityAnalyzer()"
   ]
  },
  {
   "cell_type": "code",
   "execution_count": 55,
   "metadata": {},
   "outputs": [
    {
     "data": {
      "text/html": [
       "<div>\n",
       "<style scoped>\n",
       "    .dataframe tbody tr th:only-of-type {\n",
       "        vertical-align: middle;\n",
       "    }\n",
       "\n",
       "    .dataframe tbody tr th {\n",
       "        vertical-align: top;\n",
       "    }\n",
       "\n",
       "    .dataframe thead th {\n",
       "        text-align: right;\n",
       "    }\n",
       "</style>\n",
       "<table border=\"1\" class=\"dataframe\">\n",
       "  <thead>\n",
       "    <tr style=\"text-align: right;\">\n",
       "      <th></th>\n",
       "      <th>sentiment</th>\n",
       "      <th>review</th>\n",
       "      <th>reviews1</th>\n",
       "      <th>cleaned_reviews</th>\n",
       "      <th>no_of_words</th>\n",
       "      <th>compound_score</th>\n",
       "    </tr>\n",
       "  </thead>\n",
       "  <tbody>\n",
       "    <tr>\n",
       "      <th>0</th>\n",
       "      <td>1</td>\n",
       "      <td>Good but need updates and improvements</td>\n",
       "      <td>[good, but, need, updates, and, improvements]</td>\n",
       "      <td>good need updates improvements</td>\n",
       "      <td>4</td>\n",
       "      <td>0.5994</td>\n",
       "    </tr>\n",
       "    <tr>\n",
       "      <th>1</th>\n",
       "      <td>0</td>\n",
       "      <td>Worst mobile i have bought ever, Battery is draining like hell, backup is only 6 to 7 hours with internet uses, even if I put mobile idle its getting discharged.This is biggest lie from Amazon &amp; Lenove which is not at all expected, they are making full by saying that battery is 4000MAH &amp; booster charger is fake, it takes at least 4 to 5 hours to be fully charged.Don't know how Lenovo will survive by making full of us.Please don;t go for this else you will regret like me.</td>\n",
       "      <td>[worst, mobile, i, have, bought, ever, battery, is, draining, like, hell, backup, is, only, 6, to, 7, hours, with, internet, uses, even, if, i, put, mobile, idle, its, getting, dischargedthis, is, biggest, lie, from, amazon, lenove, which, is, not, at, all, expected, they, are, making, full, by, saying, that, battery, is, 4000mah, booster, charger, is, fake, it, takes, at, least, 4, to, 5, hours, to, be, fully, chargeddont, know, how, lenovo, will, survive, by, making, full, of, usplease, dont, go, for, this, else, you, will, regret, like, me]</td>\n",
       "      <td>worst mobile bought ever battery draining like hell backup 6 7 hours internet uses even put mobile idle getting dischargedthis biggest lie amazon lenove expected making full saying battery 4000mah booster charger fake takes least 4 5 hours fully chargeddont know lenovo survive making full usplease dont go else regret like</td>\n",
       "      <td>51</td>\n",
       "      <td>-0.8720</td>\n",
       "    </tr>\n",
       "    <tr>\n",
       "      <th>2</th>\n",
       "      <td>1</td>\n",
       "      <td>when I will get my 10% cash back.... its already 15 January..</td>\n",
       "      <td>[when, i, will, get, my, 10, cash, back, its, already, 15, january]</td>\n",
       "      <td>get 10 cash back already 15 january</td>\n",
       "      <td>7</td>\n",
       "      <td>0.0000</td>\n",
       "    </tr>\n",
       "    <tr>\n",
       "      <th>3</th>\n",
       "      <td>1</td>\n",
       "      <td>Good</td>\n",
       "      <td>[good]</td>\n",
       "      <td>good</td>\n",
       "      <td>1</td>\n",
       "      <td>0.4404</td>\n",
       "    </tr>\n",
       "    <tr>\n",
       "      <th>4</th>\n",
       "      <td>0</td>\n",
       "      <td>The worst phone everThey have changed the last phone but the problem is still same and the amazon is not returning the phone .Highly disappointing of amazon</td>\n",
       "      <td>[the, worst, phone, everthey, have, changed, the, last, phone, but, the, problem, is, still, same, and, the, amazon, is, not, returning, the, phone, highly, disappointing, of, amazon]</td>\n",
       "      <td>worst phone everthey changed last phone problem still amazon returning phone highly disappointing amazon</td>\n",
       "      <td>14</td>\n",
       "      <td>-0.8289</td>\n",
       "    </tr>\n",
       "  </tbody>\n",
       "</table>\n",
       "</div>"
      ],
      "text/plain": [
       "   sentiment  \\\n",
       "0          1   \n",
       "1          0   \n",
       "2          1   \n",
       "3          1   \n",
       "4          0   \n",
       "\n",
       "                                                                                                                                                                                                                                                                                                                                                                                                                                                                                        review  \\\n",
       "0                                                                                                                                                                                                                                                                                                                                                                                                                                                       Good but need updates and improvements   \n",
       "1  Worst mobile i have bought ever, Battery is draining like hell, backup is only 6 to 7 hours with internet uses, even if I put mobile idle its getting discharged.This is biggest lie from Amazon & Lenove which is not at all expected, they are making full by saying that battery is 4000MAH & booster charger is fake, it takes at least 4 to 5 hours to be fully charged.Don't know how Lenovo will survive by making full of us.Please don;t go for this else you will regret like me.   \n",
       "2                                                                                                                                                                                                                                                                                                                                                                                                                                when I will get my 10% cash back.... its already 15 January..   \n",
       "3                                                                                                                                                                                                                                                                                                                                                                                                                                                                                         Good   \n",
       "4                                                                                                                                                                                                                                                                                                                                 The worst phone everThey have changed the last phone but the problem is still same and the amazon is not returning the phone .Highly disappointing of amazon   \n",
       "\n",
       "                                                                                                                                                                                                                                                                                                                                                                                                                                                                                                                                                                reviews1  \\\n",
       "0                                                                                                                                                                                                                                                                                                                                                                                                                                                                                                                          [good, but, need, updates, and, improvements]   \n",
       "1  [worst, mobile, i, have, bought, ever, battery, is, draining, like, hell, backup, is, only, 6, to, 7, hours, with, internet, uses, even, if, i, put, mobile, idle, its, getting, dischargedthis, is, biggest, lie, from, amazon, lenove, which, is, not, at, all, expected, they, are, making, full, by, saying, that, battery, is, 4000mah, booster, charger, is, fake, it, takes, at, least, 4, to, 5, hours, to, be, fully, chargeddont, know, how, lenovo, will, survive, by, making, full, of, usplease, dont, go, for, this, else, you, will, regret, like, me]   \n",
       "2                                                                                                                                                                                                                                                                                                                                                                                                                                                                                                    [when, i, will, get, my, 10, cash, back, its, already, 15, january]   \n",
       "3                                                                                                                                                                                                                                                                                                                                                                                                                                                                                                                                                                 [good]   \n",
       "4                                                                                                                                                                                                                                                                                                                                                                                [the, worst, phone, everthey, have, changed, the, last, phone, but, the, problem, is, still, same, and, the, amazon, is, not, returning, the, phone, highly, disappointing, of, amazon]   \n",
       "\n",
       "                                                                                                                                                                                                                                                                                                                       cleaned_reviews  \\\n",
       "0                                                                                                                                                                                                                                                                                                       good need updates improvements   \n",
       "1  worst mobile bought ever battery draining like hell backup 6 7 hours internet uses even put mobile idle getting dischargedthis biggest lie amazon lenove expected making full saying battery 4000mah booster charger fake takes least 4 5 hours fully chargeddont know lenovo survive making full usplease dont go else regret like   \n",
       "2                                                                                                                                                                                                                                                                                                  get 10 cash back already 15 january   \n",
       "3                                                                                                                                                                                                                                                                                                                                 good   \n",
       "4                                                                                                                                                                                                                             worst phone everthey changed last phone problem still amazon returning phone highly disappointing amazon   \n",
       "\n",
       "   no_of_words  compound_score  \n",
       "0            4          0.5994  \n",
       "1           51         -0.8720  \n",
       "2            7          0.0000  \n",
       "3            1          0.4404  \n",
       "4           14         -0.8289  "
      ]
     },
     "execution_count": 55,
     "metadata": {},
     "output_type": "execute_result"
    }
   ],
   "source": [
    "def vader_score(text):\n",
    "    comp = analyzer.polarity_scores(text)['compound']\n",
    "    return(comp)\n",
    "\n",
    "reviews['compound_score'] = reviews['review'].apply(lambda x: vader_score(x))\n",
    "reviews.head()"
   ]
  },
  {
   "cell_type": "code",
   "execution_count": 56,
   "metadata": {},
   "outputs": [
    {
     "data": {
      "text/plain": [
       "-0.9971"
      ]
     },
     "execution_count": 56,
     "metadata": {},
     "output_type": "execute_result"
    }
   ],
   "source": [
    "# Finding the least vader compound score\n",
    "reviews['compound_score'].min()"
   ]
  },
  {
   "cell_type": "code",
   "execution_count": 57,
   "metadata": {},
   "outputs": [
    {
     "data": {
      "text/html": [
       "<div>\n",
       "<style scoped>\n",
       "    .dataframe tbody tr th:only-of-type {\n",
       "        vertical-align: middle;\n",
       "    }\n",
       "\n",
       "    .dataframe tbody tr th {\n",
       "        vertical-align: top;\n",
       "    }\n",
       "\n",
       "    .dataframe thead th {\n",
       "        text-align: right;\n",
       "    }\n",
       "</style>\n",
       "<table border=\"1\" class=\"dataframe\">\n",
       "  <thead>\n",
       "    <tr style=\"text-align: right;\">\n",
       "      <th></th>\n",
       "      <th>sentiment</th>\n",
       "      <th>review</th>\n",
       "      <th>reviews1</th>\n",
       "      <th>cleaned_reviews</th>\n",
       "      <th>no_of_words</th>\n",
       "      <th>compound_score</th>\n",
       "    </tr>\n",
       "  </thead>\n",
       "  <tbody>\n",
       "    <tr>\n",
       "      <th>8075</th>\n",
       "      <td>0</td>\n",
       "      <td>Waste waste waste waste waste waste waste waste waste waste waste waste waste waste waste waste waste waste waste waste waste waste waste waste waste waste waste waste</td>\n",
       "      <td>[waste, waste, waste, waste, waste, waste, waste, waste, waste, waste, waste, waste, waste, waste, waste, waste, waste, waste, waste, waste, waste, waste, waste, waste, waste, waste, waste, waste]</td>\n",
       "      <td>waste waste waste waste waste waste waste waste waste waste waste waste waste waste waste waste waste waste waste waste waste waste waste waste waste waste waste waste</td>\n",
       "      <td>28</td>\n",
       "      <td>-0.9971</td>\n",
       "    </tr>\n",
       "  </tbody>\n",
       "</table>\n",
       "</div>"
      ],
      "text/plain": [
       "      sentiment  \\\n",
       "8075          0   \n",
       "\n",
       "                                                                                                                                                                       review  \\\n",
       "8075  Waste waste waste waste waste waste waste waste waste waste waste waste waste waste waste waste waste waste waste waste waste waste waste waste waste waste waste waste   \n",
       "\n",
       "                                                                                                                                                                                                  reviews1  \\\n",
       "8075  [waste, waste, waste, waste, waste, waste, waste, waste, waste, waste, waste, waste, waste, waste, waste, waste, waste, waste, waste, waste, waste, waste, waste, waste, waste, waste, waste, waste]   \n",
       "\n",
       "                                                                                                                                                              cleaned_reviews  \\\n",
       "8075  waste waste waste waste waste waste waste waste waste waste waste waste waste waste waste waste waste waste waste waste waste waste waste waste waste waste waste waste   \n",
       "\n",
       "      no_of_words  compound_score  \n",
       "8075           28         -0.9971  "
      ]
     },
     "execution_count": 57,
     "metadata": {},
     "output_type": "execute_result"
    }
   ],
   "source": [
    "# Finding the review with this score\n",
    "reviews[reviews['compound_score']==-0.9971]"
   ]
  },
  {
   "cell_type": "code",
   "execution_count": 58,
   "metadata": {},
   "outputs": [
    {
     "data": {
      "text/plain": [
       "3295    1.000000\n",
       "6201    1.000000\n",
       "8075    1.000000\n",
       "3082    0.707107\n",
       "849     0.707107\n",
       "Name: 8075, dtype: float64"
      ]
     },
     "execution_count": 58,
     "metadata": {},
     "output_type": "execute_result"
    }
   ],
   "source": [
    "df_top5_lowvader = df_cs[8075].sort_values(ascending = False)[1:6]\n",
    "df_top5_lowvader"
   ]
  },
  {
   "cell_type": "code",
   "execution_count": 59,
   "metadata": {},
   "outputs": [
    {
     "data": {
      "text/plain": [
       "[3295, 6201, 8075, 3082, 849]"
      ]
     },
     "execution_count": 59,
     "metadata": {},
     "output_type": "execute_result"
    }
   ],
   "source": [
    "# Finding the reviews at the above index positions\n",
    "ind = list(df_top5_lowvader.index.values)\n",
    "ind"
   ]
  },
  {
   "cell_type": "code",
   "execution_count": 60,
   "metadata": {},
   "outputs": [
    {
     "name": "stdout",
     "output_type": "stream",
     "text": [
      "Paysa waste\n",
      "\n",
      "Waste\n",
      "\n",
      "Waste waste waste waste waste waste waste waste waste waste waste waste waste waste waste waste waste waste waste waste waste waste waste waste waste waste waste waste\n",
      "\n",
      "Waste Mike is problem\n",
      "\n",
      "Waste of money\n",
      "\n"
     ]
    }
   ],
   "source": [
    "for i in ind:\n",
    "    print(reviews['review'][i])\n",
    "    print()\n",
    "# These are the top 5 reviews that are similar to the review with lowest vader score"
   ]
  },
  {
   "cell_type": "markdown",
   "metadata": {},
   "source": [
    "# For each of the top 5 words in the entire cleaned corpus find out the similar words"
   ]
  },
  {
   "cell_type": "code",
   "execution_count": 61,
   "metadata": {},
   "outputs": [],
   "source": [
    "reviews_combined = \" \".join(reviews['cleaned_reviews'].values)"
   ]
  },
  {
   "cell_type": "code",
   "execution_count": 62,
   "metadata": {},
   "outputs": [],
   "source": [
    "from nltk.probability import FreqDist\n",
    "# Seperating all words\n",
    "all_terms = reviews_combined.split(\" \")\n",
    "fdist = FreqDist(all_terms)\n",
    "# This gives the dictionary in which a word is the key and its value is the frequecy"
   ]
  },
  {
   "cell_type": "code",
   "execution_count": 68,
   "metadata": {},
   "outputs": [
    {
     "data": {
      "text/html": [
       "<div>\n",
       "<style scoped>\n",
       "    .dataframe tbody tr th:only-of-type {\n",
       "        vertical-align: middle;\n",
       "    }\n",
       "\n",
       "    .dataframe tbody tr th {\n",
       "        vertical-align: top;\n",
       "    }\n",
       "\n",
       "    .dataframe thead th {\n",
       "        text-align: right;\n",
       "    }\n",
       "</style>\n",
       "<table border=\"1\" class=\"dataframe\">\n",
       "  <thead>\n",
       "    <tr style=\"text-align: right;\">\n",
       "      <th></th>\n",
       "      <th>Word</th>\n",
       "      <th>Freq</th>\n",
       "    </tr>\n",
       "  </thead>\n",
       "  <tbody>\n",
       "    <tr>\n",
       "      <th>56</th>\n",
       "      <td>phone</td>\n",
       "      <td>6481</td>\n",
       "    </tr>\n",
       "    <tr>\n",
       "      <th>0</th>\n",
       "      <td>good</td>\n",
       "      <td>5631</td>\n",
       "    </tr>\n",
       "    <tr>\n",
       "      <th>8</th>\n",
       "      <td>battery</td>\n",
       "      <td>3176</td>\n",
       "    </tr>\n",
       "    <tr>\n",
       "      <th>161</th>\n",
       "      <td>camera</td>\n",
       "      <td>3071</td>\n",
       "    </tr>\n",
       "    <tr>\n",
       "      <th>5</th>\n",
       "      <td>mobile</td>\n",
       "      <td>2327</td>\n",
       "    </tr>\n",
       "  </tbody>\n",
       "</table>\n",
       "</div>"
      ],
      "text/plain": [
       "        Word  Freq\n",
       "56     phone  6481\n",
       "0       good  5631\n",
       "8    battery  3176\n",
       "161   camera  3071\n",
       "5     mobile  2327"
      ]
     },
     "execution_count": 68,
     "metadata": {},
     "output_type": "execute_result"
    }
   ],
   "source": [
    "# From the dictionary obtain a dataframe of words and frequencies\n",
    "df_dist = pd.DataFrame(fdist.items(), columns = ['Word', 'Freq'])\n",
    "df_top5_words = df_dist.sort_values(by = 'Freq', ascending = False).head()\n",
    "df_top5_words\n",
    "# These are the top 5 words in the cleaned reviews"
   ]
  },
  {
   "cell_type": "code",
   "execution_count": 69,
   "metadata": {},
   "outputs": [
    {
     "data": {
      "text/plain": [
       "['phone', 'good', 'battery', 'camera', 'mobile']"
      ]
     },
     "execution_count": 69,
     "metadata": {},
     "output_type": "execute_result"
    }
   ],
   "source": [
    "top5_words = list(df_top5_words['Word'])\n",
    "top5_words"
   ]
  },
  {
   "cell_type": "markdown",
   "metadata": {},
   "source": [
    "### Now finding top 5 similar words to each of the words in the top5_words"
   ]
  },
  {
   "cell_type": "code",
   "execution_count": 70,
   "metadata": {},
   "outputs": [
    {
     "data": {
      "text/html": [
       "<div>\n",
       "<style scoped>\n",
       "    .dataframe tbody tr th:only-of-type {\n",
       "        vertical-align: middle;\n",
       "    }\n",
       "\n",
       "    .dataframe tbody tr th {\n",
       "        vertical-align: top;\n",
       "    }\n",
       "\n",
       "    .dataframe thead th {\n",
       "        text-align: right;\n",
       "    }\n",
       "</style>\n",
       "<table border=\"1\" class=\"dataframe\">\n",
       "  <thead>\n",
       "    <tr style=\"text-align: right;\">\n",
       "      <th></th>\n",
       "      <th>10</th>\n",
       "      <th>100</th>\n",
       "      <th>1000</th>\n",
       "      <th>1012</th>\n",
       "      <th>1015</th>\n",
       "      <th>1080p</th>\n",
       "      <th>10999</th>\n",
       "      <th>10k</th>\n",
       "      <th>11</th>\n",
       "      <th>11999</th>\n",
       "      <th>...</th>\n",
       "      <th>yellow</th>\n",
       "      <th>yes</th>\n",
       "      <th>yesterday</th>\n",
       "      <th>yet</th>\n",
       "      <th>youll</th>\n",
       "      <th>youre</th>\n",
       "      <th>youtube</th>\n",
       "      <th>zero</th>\n",
       "      <th>zoom</th>\n",
       "      <th>zooming</th>\n",
       "    </tr>\n",
       "  </thead>\n",
       "  <tbody>\n",
       "    <tr>\n",
       "      <th>10</th>\n",
       "      <td>1.000000</td>\n",
       "      <td>0.072326</td>\n",
       "      <td>0.016278</td>\n",
       "      <td>0.0</td>\n",
       "      <td>0.047458</td>\n",
       "      <td>0.022372</td>\n",
       "      <td>0.0</td>\n",
       "      <td>0.015008</td>\n",
       "      <td>0.0</td>\n",
       "      <td>0.0</td>\n",
       "      <td>...</td>\n",
       "      <td>0.015397</td>\n",
       "      <td>0.010005</td>\n",
       "      <td>0.011034</td>\n",
       "      <td>0.072399</td>\n",
       "      <td>0.000000</td>\n",
       "      <td>0.0</td>\n",
       "      <td>0.047458</td>\n",
       "      <td>0.016779</td>\n",
       "      <td>0.013995</td>\n",
       "      <td>0.0</td>\n",
       "    </tr>\n",
       "    <tr>\n",
       "      <th>100</th>\n",
       "      <td>0.072326</td>\n",
       "      <td>1.000000</td>\n",
       "      <td>0.000000</td>\n",
       "      <td>0.0</td>\n",
       "      <td>0.031750</td>\n",
       "      <td>0.029934</td>\n",
       "      <td>0.0</td>\n",
       "      <td>0.040161</td>\n",
       "      <td>0.0</td>\n",
       "      <td>0.0</td>\n",
       "      <td>...</td>\n",
       "      <td>0.000000</td>\n",
       "      <td>0.013387</td>\n",
       "      <td>0.029527</td>\n",
       "      <td>0.000000</td>\n",
       "      <td>0.021167</td>\n",
       "      <td>0.0</td>\n",
       "      <td>0.012700</td>\n",
       "      <td>0.022451</td>\n",
       "      <td>0.000000</td>\n",
       "      <td>0.0</td>\n",
       "    </tr>\n",
       "    <tr>\n",
       "      <th>1000</th>\n",
       "      <td>0.016278</td>\n",
       "      <td>0.000000</td>\n",
       "      <td>1.000000</td>\n",
       "      <td>0.0</td>\n",
       "      <td>0.000000</td>\n",
       "      <td>0.000000</td>\n",
       "      <td>0.0</td>\n",
       "      <td>0.000000</td>\n",
       "      <td>0.0</td>\n",
       "      <td>0.0</td>\n",
       "      <td>...</td>\n",
       "      <td>0.000000</td>\n",
       "      <td>0.000000</td>\n",
       "      <td>0.000000</td>\n",
       "      <td>0.000000</td>\n",
       "      <td>0.000000</td>\n",
       "      <td>0.0</td>\n",
       "      <td>0.000000</td>\n",
       "      <td>0.000000</td>\n",
       "      <td>0.000000</td>\n",
       "      <td>0.0</td>\n",
       "    </tr>\n",
       "    <tr>\n",
       "      <th>1012</th>\n",
       "      <td>0.000000</td>\n",
       "      <td>0.000000</td>\n",
       "      <td>0.000000</td>\n",
       "      <td>1.0</td>\n",
       "      <td>0.000000</td>\n",
       "      <td>0.000000</td>\n",
       "      <td>0.0</td>\n",
       "      <td>0.000000</td>\n",
       "      <td>0.0</td>\n",
       "      <td>0.0</td>\n",
       "      <td>...</td>\n",
       "      <td>0.000000</td>\n",
       "      <td>0.000000</td>\n",
       "      <td>0.000000</td>\n",
       "      <td>0.101929</td>\n",
       "      <td>0.000000</td>\n",
       "      <td>0.0</td>\n",
       "      <td>0.000000</td>\n",
       "      <td>0.000000</td>\n",
       "      <td>0.000000</td>\n",
       "      <td>0.0</td>\n",
       "    </tr>\n",
       "    <tr>\n",
       "      <th>1015</th>\n",
       "      <td>0.047458</td>\n",
       "      <td>0.031750</td>\n",
       "      <td>0.000000</td>\n",
       "      <td>0.0</td>\n",
       "      <td>1.000000</td>\n",
       "      <td>0.000000</td>\n",
       "      <td>0.0</td>\n",
       "      <td>0.000000</td>\n",
       "      <td>0.0</td>\n",
       "      <td>0.0</td>\n",
       "      <td>...</td>\n",
       "      <td>0.000000</td>\n",
       "      <td>0.000000</td>\n",
       "      <td>0.000000</td>\n",
       "      <td>0.143019</td>\n",
       "      <td>0.000000</td>\n",
       "      <td>0.0</td>\n",
       "      <td>0.000000</td>\n",
       "      <td>0.000000</td>\n",
       "      <td>0.000000</td>\n",
       "      <td>0.0</td>\n",
       "    </tr>\n",
       "  </tbody>\n",
       "</table>\n",
       "<p>5 rows × 2000 columns</p>\n",
       "</div>"
      ],
      "text/plain": [
       "            10       100      1000  1012      1015     1080p  10999       10k  \\\n",
       "10    1.000000  0.072326  0.016278   0.0  0.047458  0.022372    0.0  0.015008   \n",
       "100   0.072326  1.000000  0.000000   0.0  0.031750  0.029934    0.0  0.040161   \n",
       "1000  0.016278  0.000000  1.000000   0.0  0.000000  0.000000    0.0  0.000000   \n",
       "1012  0.000000  0.000000  0.000000   1.0  0.000000  0.000000    0.0  0.000000   \n",
       "1015  0.047458  0.031750  0.000000   0.0  1.000000  0.000000    0.0  0.000000   \n",
       "\n",
       "       11  11999  ...    yellow       yes  yesterday       yet     youll  \\\n",
       "10    0.0    0.0  ...  0.015397  0.010005   0.011034  0.072399  0.000000   \n",
       "100   0.0    0.0  ...  0.000000  0.013387   0.029527  0.000000  0.021167   \n",
       "1000  0.0    0.0  ...  0.000000  0.000000   0.000000  0.000000  0.000000   \n",
       "1012  0.0    0.0  ...  0.000000  0.000000   0.000000  0.101929  0.000000   \n",
       "1015  0.0    0.0  ...  0.000000  0.000000   0.000000  0.143019  0.000000   \n",
       "\n",
       "      youre   youtube      zero      zoom  zooming  \n",
       "10      0.0  0.047458  0.016779  0.013995      0.0  \n",
       "100     0.0  0.012700  0.022451  0.000000      0.0  \n",
       "1000    0.0  0.000000  0.000000  0.000000      0.0  \n",
       "1012    0.0  0.000000  0.000000  0.000000      0.0  \n",
       "1015    0.0  0.000000  0.000000  0.000000      0.0  \n",
       "\n",
       "[5 rows x 2000 columns]"
      ]
     },
     "execution_count": 70,
     "metadata": {},
     "output_type": "execute_result"
    }
   ],
   "source": [
    "# Calculating cosine similarity for words\n",
    "cs_words = cosine_similarity(dtm.T)\n",
    "df_cs_words = pd.DataFrame(cs_words, columns = dtm.columns, index = dtm.columns)\n",
    "df_cs_words.head()"
   ]
  },
  {
   "cell_type": "code",
   "execution_count": 75,
   "metadata": {},
   "outputs": [
    {
     "data": {
      "text/plain": [
       "['dual', 'good', 'quality', 'front', 'phone']"
      ]
     },
     "execution_count": 75,
     "metadata": {},
     "output_type": "execute_result"
    }
   ],
   "source": [
    "list(df_cs_words['camera'].sort_values(ascending = False)[1:6].index)"
   ]
  },
  {
   "cell_type": "code",
   "execution_count": 76,
   "metadata": {},
   "outputs": [
    {
     "name": "stdout",
     "output_type": "stream",
     "text": [
      "Top 5 similar words to phone are:\n",
      "['good', 'camera', 'battery', 'lenovo', 'even']\n",
      "\n",
      "Top 5 similar words to good are:\n",
      "['camera', 'phone', 'battery', 'quality', 'also']\n",
      "\n",
      "Top 5 similar words to battery are:\n",
      "['backup', 'phone', 'fast', 'good', 'camera']\n",
      "\n",
      "Top 5 similar words to camera are:\n",
      "['dual', 'good', 'quality', 'front', 'phone']\n",
      "\n",
      "Top 5 similar words to mobile are:\n",
      "['lenovo', 'good', 'battery', 'k8', 'dont']\n",
      "\n"
     ]
    }
   ],
   "source": [
    "for i in top5_words:\n",
    "    print(\"Top 5 similar words to {} are:\".format(i))\n",
    "    print(list(df_cs_words[i].sort_values(ascending = False)[1:6].index))\n",
    "    print()"
   ]
  }
 ],
 "metadata": {
  "kernelspec": {
   "display_name": "Python 3",
   "language": "python",
   "name": "python3"
  },
  "language_info": {
   "codemirror_mode": {
    "name": "ipython",
    "version": 3
   },
   "file_extension": ".py",
   "mimetype": "text/x-python",
   "name": "python",
   "nbconvert_exporter": "python",
   "pygments_lexer": "ipython3",
   "version": "3.7.3"
  }
 },
 "nbformat": 4,
 "nbformat_minor": 2
}
